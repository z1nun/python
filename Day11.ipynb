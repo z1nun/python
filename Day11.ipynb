{
 "cells": [
  {
   "cell_type": "code",
   "execution_count": 2,
   "metadata": {},
   "outputs": [
    {
     "name": "stdout",
     "output_type": "stream",
     "text": [
      "[[1 2 3]\n",
      " [4 5 6]]\n"
     ]
    }
   ],
   "source": [
    "import numpy as np \n",
    "a = [[1,2,3,],[4,5,6]]\n",
    "b = np.array(a)\n",
    "print(b)\n"
   ]
  },
  {
   "cell_type": "code",
   "execution_count": 6,
   "metadata": {},
   "outputs": [
    {
     "name": "stdout",
     "output_type": "stream",
     "text": [
      "배열의 열수(차원): 2\n",
      "배열의 차원: (2, 3)\n",
      "1\n",
      "2\n"
     ]
    }
   ],
   "source": [
    "print('배열의 열수(차원):',b.ndim)\n",
    "print('배열의 차원:',b.shape)\n",
    "print(b[0,0]) #배열의 원소 접근\n",
    "print(b[0,1])"
   ]
  },
  {
   "cell_type": "code",
   "execution_count": 9,
   "metadata": {},
   "outputs": [
    {
     "name": "stdout",
     "output_type": "stream",
     "text": [
      "[[0. 0.]\n",
      " [0. 0.]]\n",
      "[[1. 1. 1.]\n",
      " [1. 1. 1.]]\n",
      "[[5 5 5]\n",
      " [5 5 5]]\n",
      "[[1. 0. 0.]\n",
      " [0. 1. 0.]\n",
      " [0. 0. 1.]]\n"
     ]
    }
   ],
   "source": [
    "#영행렬 생성\n",
    "print(np.zeros((2,2)))\n",
    "\n",
    "#유닛행렬\n",
    "print(np.ones((2,3)))\n",
    "\n",
    "#모든 원소가 5인 2*3행렬\n",
    "print(np.full((2,3),5))\n",
    "\n",
    "#단위 행렬\n",
    "print(np.eye(3))"
   ]
  },
  {
   "cell_type": "code",
   "execution_count": 14,
   "metadata": {},
   "outputs": [
    {
     "name": "stdout",
     "output_type": "stream",
     "text": [
      "a: [ 0  1  2  3  4  5  6  7  8  9 10 11 12 13 14 15 16 17 18 19]\n",
      "b: [[ 0  1  2  3  4]\n",
      " [ 5  6  7  8  9]\n",
      " [10 11 12 13 14]\n",
      " [15 16 17 18 19]]\n"
     ]
    }
   ],
   "source": [
    "#파이썬 numpy배열의 차원 변화\n",
    "a = np.arange(20)\n",
    "print('a:',a)\n",
    "\n",
    "b = a.reshape(4,5)\n",
    "print('b:',b)"
   ]
  },
  {
   "cell_type": "code",
   "execution_count": 16,
   "metadata": {},
   "outputs": [
    {
     "name": "stdout",
     "output_type": "stream",
     "text": [
      "[[1 2]\n",
      " [4 5]]\n",
      "[[5 6]\n",
      " [8 9]]\n"
     ]
    }
   ],
   "source": [
    "#파이썬 numpy배열의 슬라이싱 및 인덱싱\n",
    "lst = [[1,2,3],[4,5,6],[7,8,9]]\n",
    "arr = np.array(lst)\n",
    "a = arr[0:2, 0:2]\n",
    "print(a)\n",
    "\n",
    "b = arr[1:,1:]\n",
    "print(b)"
   ]
  },
  {
   "cell_type": "code",
   "execution_count": 23,
   "metadata": {},
   "outputs": [
    {
     "name": "stdout",
     "output_type": "stream",
     "text": [
      "[5 7 9]\n",
      "[ 4 10 18]\n",
      "[0.25 0.4  0.5 ]\n"
     ]
    }
   ],
   "source": [
    "#파이썬 numpy배열의 연산\n",
    "a = np.array([1,2,3])\n",
    "b = np.array([4,5,6])\n",
    "\n",
    "#각 요소 더하기\n",
    "#c = a + b\n",
    "\n",
    "c = np.add(a,b)\n",
    "print(c)\n",
    "\n",
    "#각 요소 곱하기\n",
    "#d = a * b\n",
    "d = np.multiply(a,b)\n",
    "print(d)\n",
    "\n",
    "#각 요소 나누기\n",
    "#e = a/b\n",
    "\n",
    "e = np.divide(a,b)\n",
    "print(e)\n",
    "\n",
    "\n"
   ]
  },
  {
   "cell_type": "code",
   "execution_count": 24,
   "metadata": {},
   "outputs": [
    {
     "name": "stdout",
     "output_type": "stream",
     "text": [
      "[[19 22]\n",
      " [43 50]]\n"
     ]
    }
   ],
   "source": [
    "#파이선 numpy 배열의 연산 - dot()\n",
    "arr1 = [[1,2],[3,4]]\n",
    "arr2 = [[5,6],[7,8]]\n",
    "a = np.array(arr1)\n",
    "b = np.array(arr2)\n",
    "\n",
    "c = np.dot(a,b)\n",
    "print(c)"
   ]
  },
  {
   "cell_type": "code",
   "execution_count": 31,
   "metadata": {},
   "outputs": [
    {
     "name": "stdout",
     "output_type": "stream",
     "text": [
      "sum= 19\n",
      "sum by row= [ 2  6 11]\n",
      "mean= 3.1666666666666665\n",
      "sd= 2.6718699236469\n",
      "product= -576\n"
     ]
    }
   ],
   "source": [
    "#파이썬 numpy배열의 연산 - 모든 원소의 합: sum(), 모든 원소의 곱:pord()\n",
    "a = np.array([[-1,2,3],[3,4,8]])\n",
    "s = np.sum(a)\n",
    "print('sum=',a.sum())\n",
    "\n",
    "#행렬/열별 연산 (axis = 0/1)\n",
    "print('sum by row=', a.sum(axis=0))\n",
    "\n",
    "print('mean=',a.mean())\n",
    "\n",
    "print('sd=',a.std())\n",
    "\n",
    "print('product=',a.prod())"
   ]
  },
  {
   "cell_type": "code",
   "execution_count": null,
   "metadata": {},
   "outputs": [],
   "source": []
  }
 ],
 "metadata": {
  "interpreter": {
   "hash": "9ec957caba7ae6ccc97a7fb0804bf14cbdb1f70a4904cd45a06dd27fe16a3b19"
  },
  "kernelspec": {
   "display_name": "Python 3.10.4 ('tensorflow')",
   "language": "python",
   "name": "python3"
  },
  "language_info": {
   "codemirror_mode": {
    "name": "ipython",
    "version": 3
   },
   "file_extension": ".py",
   "mimetype": "text/x-python",
   "name": "python",
   "nbconvert_exporter": "python",
   "pygments_lexer": "ipython3",
   "version": "3.9.12"
  },
  "orig_nbformat": 4
 },
 "nbformat": 4,
 "nbformat_minor": 2
}
